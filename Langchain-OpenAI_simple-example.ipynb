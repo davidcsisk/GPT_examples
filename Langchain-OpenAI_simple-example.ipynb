{
 "cells": [
  {
   "cell_type": "code",
   "execution_count": 2,
   "id": "9304a0b5",
   "metadata": {},
   "outputs": [],
   "source": [
    "import os\n",
    "from langchain.llms import OpenAI"
   ]
  },
  {
   "cell_type": "markdown",
   "id": "19a2bbd7",
   "metadata": {},
   "source": [
    "You must go to both OpenAI, register for an account, and then get your API_KEY for each.\n",
    "Put each API_KEY in an environment variable, and the code below will retrieve that and set it for use here.  OpenAI gives you a trial account with an $18 credit.\n"
   ]
  },
  {
   "cell_type": "code",
   "execution_count": 3,
   "id": "422fe0d6",
   "metadata": {},
   "outputs": [],
   "source": [
    "OPENAI_API_KEY = os.environ.get('OPENAI_API_KEY')\n",
    "# Double-check that these variables are not null...otherwise nothing below will work.\n",
    "#print(OPENAI_API_KEY)\n",
    "\n",
    "# I have to these commented out so that I don't accidentally post my OpenAI API KEY on the web."
   ]
  },
  {
   "cell_type": "code",
   "execution_count": 4,
   "id": "a6755c6b",
   "metadata": {},
   "outputs": [],
   "source": [
    "# Create an LLM connection\n",
    "llm = OpenAI(temperature=0.9)"
   ]
  },
  {
   "cell_type": "markdown",
   "id": "ab719647",
   "metadata": {},
   "source": [
    "In addition to registering for a free account at OpenAI, you must also provide a credit card for billing or requests from\n",
    "this libary will be declined with an error about \"rate limiting\".  They won't charge your card until you've depleted your\n",
    "trial allowance of $18, so you still get your free trial. You can also set soft and hard monthly charge limits from your account page.  Make sure to set those so you don't have any unpleasant surprises!"
   ]
  },
  {
   "cell_type": "code",
   "execution_count": 13,
   "id": "6c944574",
   "metadata": {},
   "outputs": [
    {
     "name": "stdout",
     "output_type": "stream",
     "text": [
      "\n",
      "\n",
      "The Howlin' Three.\n"
     ]
    }
   ],
   "source": [
    "text = \"What would be a clever name for a blues/rock 3 person band?\"\n",
    "print(llm(text))"
   ]
  },
  {
   "cell_type": "code",
   "execution_count": null,
   "id": "1ff9c168",
   "metadata": {},
   "outputs": [],
   "source": []
  },
  {
   "cell_type": "code",
   "execution_count": null,
   "id": "5e0fb0b1",
   "metadata": {},
   "outputs": [],
   "source": []
  }
 ],
 "metadata": {
  "kernelspec": {
   "display_name": "Python 3 (ipykernel)",
   "language": "python",
   "name": "python3"
  },
  "language_info": {
   "codemirror_mode": {
    "name": "ipython",
    "version": 3
   },
   "file_extension": ".py",
   "mimetype": "text/x-python",
   "name": "python",
   "nbconvert_exporter": "python",
   "pygments_lexer": "ipython3",
   "version": "3.8.16"
  }
 },
 "nbformat": 4,
 "nbformat_minor": 5
}
